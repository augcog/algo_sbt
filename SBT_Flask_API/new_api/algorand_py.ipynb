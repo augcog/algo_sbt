{
 "cells": [
  {
   "cell_type": "code",
   "execution_count": 2,
   "id": "4115a62f",
   "metadata": {},
   "outputs": [
    {
     "data": {
      "text/plain": [
       "'/mnt/c/Users/Dinu/Documents/UCB/Capstone/SBT_V2.1/algo_sbt/SBT_Flask_API/new_api'"
      ]
     },
     "execution_count": 2,
     "metadata": {},
     "output_type": "execute_result"
    }
   ],
   "source": [
    "import os\n",
    "os.getcwd()\n"
   ]
  },
  {
   "cell_type": "code",
   "execution_count": 2,
   "id": "e30f9c4f",
   "metadata": {},
   "outputs": [
    {
     "ename": "ModuleNotFoundError",
     "evalue": "No module named 'algosdk'",
     "output_type": "error",
     "traceback": [
      "\u001b[1;31m---------------------------------------------------------------------------\u001b[0m",
      "\u001b[1;31mModuleNotFoundError\u001b[0m                       Traceback (most recent call last)",
      "Input \u001b[1;32mIn [2]\u001b[0m, in \u001b[0;36m<cell line: 1>\u001b[1;34m()\u001b[0m\n\u001b[1;32m----> 1\u001b[0m \u001b[38;5;28;01mfrom\u001b[39;00m \u001b[38;5;21;01mmint_SBT\u001b[39;00m \u001b[38;5;28;01mimport\u001b[39;00m create_non_fungible_token\n\u001b[0;32m      2\u001b[0m \u001b[38;5;28;01mfrom\u001b[39;00m \u001b[38;5;21;01mclaim_SBT\u001b[39;00m \u001b[38;5;28;01mimport\u001b[39;00m distributeAsset\n\u001b[0;32m      3\u001b[0m \u001b[38;5;28;01mfrom\u001b[39;00m \u001b[38;5;21;01malgosdk\u001b[39;00m \u001b[38;5;28;01mimport\u001b[39;00m mnemonic, constants\n",
      "File \u001b[1;32m~\\Documents\\UCB\\Capstone\\SBT_V2.1\\algo_sbt\\SBT_Flask_API\\new_api\\mint_SBT.py:4\u001b[0m, in \u001b[0;36m<module>\u001b[1;34m\u001b[0m\n\u001b[0;32m      2\u001b[0m \u001b[38;5;28;01mimport\u001b[39;00m \u001b[38;5;21;01mhashlib\u001b[39;00m\n\u001b[0;32m      3\u001b[0m \u001b[38;5;28;01mimport\u001b[39;00m \u001b[38;5;21;01mos\u001b[39;00m\n\u001b[1;32m----> 4\u001b[0m \u001b[38;5;28;01mfrom\u001b[39;00m \u001b[38;5;21;01malgosdk\u001b[39;00m \u001b[38;5;28;01mimport\u001b[39;00m mnemonic\n\u001b[0;32m      5\u001b[0m \u001b[38;5;28;01mfrom\u001b[39;00m \u001b[38;5;21;01malgosdk\u001b[39;00m\u001b[38;5;21;01m.\u001b[39;00m\u001b[38;5;21;01mv2client\u001b[39;00m \u001b[38;5;28;01mimport\u001b[39;00m algod\n\u001b[0;32m      6\u001b[0m \u001b[38;5;28;01mfrom\u001b[39;00m \u001b[38;5;21;01malgosdk\u001b[39;00m\u001b[38;5;21;01m.\u001b[39;00m\u001b[38;5;21;01mtransaction\u001b[39;00m \u001b[38;5;28;01mimport\u001b[39;00m AssetConfigTxn, wait_for_confirmation\n",
      "\u001b[1;31mModuleNotFoundError\u001b[0m: No module named 'algosdk'"
     ]
    }
   ],
   "source": [
    "from mint_SBT import create_non_fungible_token\n",
    "from claim_SBT import distributeAsset\n",
    "from algosdk import mnemonic, constants\n",
    "from algosdk.v2client import algod\n",
    "from algosdk.transaction import AssetConfigTxn, wait_for_confirmation\n",
    "from algosdk import transaction"
   ]
  },
  {
   "cell_type": "code",
   "execution_count": 6,
   "id": "694598b6",
   "metadata": {},
   "outputs": [
    {
     "name": "stdout",
     "output_type": "stream",
     "text": [
      "--------------------------------------------\n",
      "loading account\n",
      "6HSPR27ERLFJGOZMQDJQHH6XDNP2WXWH64QKWFT6NZMATXWTLE6HHEI3FQ\n",
      "--------------------------------------------\n",
      "Creating Asset...\n",
      "ipfs://QmNwrZ1JCpNPoBwxWfEq3KDYRPTzhdRKGLFzwkbfMNqaKw\n",
      "ipfs://QmNwrZ1JCpNPoBwxWfEq3KDYRPTzhdRKGLFzwkbfMNqaKw\n",
      "Asset Creation Transaction ID: TWAU7YMGFJ2PM5AQ5REBG2HVNQXGXOXM3SXIVA3UWG52UJ5NBB6A\n",
      "TXID:  TWAU7YMGFJ2PM5AQ5REBG2HVNQXGXOXM3SXIVA3UWG52UJ5NBB6A\n",
      "Result confirmed in round: 29567810\n",
      "--------------------------------------------\n",
      "You have successfully created your frozen Non-fungible token!\n"
     ]
    },
    {
     "data": {
      "text/plain": [
       "209262235"
      ]
     },
     "execution_count": 6,
     "metadata": {},
     "output_type": "execute_result"
    }
   ],
   "source": [
    "create_non_fungible_token(ipfs_link = 'ipfs://QmNwrZ1JCpNPoBwxWfEq3KDYRPTzhdRKGLFzwkbfMNqaKw',\n",
    "                          issuer_address='6HSPR27ERLFJGOZMQDJQHH6XDNP2WXWH64QKWFT6NZMATXWTLE6HHEI3FQ',\n",
    "                          issuer_pk='glory salute airport jar borrow ball domain same staff drive dry clump shine you name fame wire chimney loud situate cook meadow captain absent roof')"
   ]
  },
  {
   "cell_type": "code",
   "execution_count": 1,
   "id": "cc7d6275",
   "metadata": {},
   "outputs": [
    {
     "ename": "NameError",
     "evalue": "name 'distributeAsset' is not defined",
     "output_type": "error",
     "traceback": [
      "\u001b[1;31m---------------------------------------------------------------------------\u001b[0m",
      "\u001b[1;31mNameError\u001b[0m                                 Traceback (most recent call last)",
      "Input \u001b[1;32mIn [1]\u001b[0m, in \u001b[0;36m<cell line: 1>\u001b[1;34m()\u001b[0m\n\u001b[1;32m----> 1\u001b[0m \u001b[43mdistributeAsset\u001b[49m(asset_id\u001b[38;5;241m=\u001b[39m\u001b[38;5;124m'\u001b[39m\u001b[38;5;124m209262235\u001b[39m\u001b[38;5;124m'\u001b[39m,\n\u001b[0;32m      2\u001b[0m                 receiver_address\u001b[38;5;241m=\u001b[39m\u001b[38;5;124m'\u001b[39m\u001b[38;5;124mDBRZIGCXWLVMNABW3MNTB7RFYXDEK6ORQYPGNUV4JDBRZYKIV6EXRFXCTU\u001b[39m\u001b[38;5;124m'\u001b[39m,\n\u001b[0;32m      3\u001b[0m                 issuer_address\u001b[38;5;241m=\u001b[39m\u001b[38;5;124m'\u001b[39m\u001b[38;5;124m6HSPR27ERLFJGOZMQDJQHH6XDNP2WXWH64QKWFT6NZMATXWTLE6HHEI3FQ\u001b[39m\u001b[38;5;124m'\u001b[39m,\n\u001b[0;32m      4\u001b[0m                 issuer_pk\u001b[38;5;241m=\u001b[39m\u001b[38;5;124m'\u001b[39m\u001b[38;5;124mglory salute airport jar borrow ball domain same staff drive dry clump shine you name fame wire chimney loud situate cook meadow captain absent roof\u001b[39m\u001b[38;5;124m'\u001b[39m)\n",
      "\u001b[1;31mNameError\u001b[0m: name 'distributeAsset' is not defined"
     ]
    }
   ],
   "source": [
    "distributeAsset(asset_id='209262235',\n",
    "                receiver_address='DBRZIGCXWLVMNABW3MNTB7RFYXDEK6ORQYPGNUV4JDBRZYKIV6EXRFXCTU',\n",
    "                issuer_address='6HSPR27ERLFJGOZMQDJQHH6XDNP2WXWH64QKWFT6NZMATXWTLE6HHEI3FQ',\n",
    "                issuer_pk='glory salute airport jar borrow ball domain same staff drive dry clump shine you name fame wire chimney loud situate cook meadow captain absent roof')"
   ]
  },
  {
   "cell_type": "code",
   "execution_count": null,
   "id": "d60200d7",
   "metadata": {},
   "outputs": [],
   "source": []
  }
 ],
 "metadata": {
  "kernelspec": {
   "display_name": "Python 3 (ipykernel)",
   "language": "python",
   "name": "python3"
  },
  "language_info": {
   "codemirror_mode": {
    "name": "ipython",
    "version": 3
   },
   "file_extension": ".py",
   "mimetype": "text/x-python",
   "name": "python",
   "nbconvert_exporter": "python",
   "pygments_lexer": "ipython3",
   "version": "3.9.12"
  }
 },
 "nbformat": 4,
 "nbformat_minor": 5
}
